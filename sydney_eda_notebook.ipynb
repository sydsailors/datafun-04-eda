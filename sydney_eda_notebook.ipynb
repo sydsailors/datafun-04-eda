{
 "cells": [
  {
   "cell_type": "markdown",
   "id": "3fdfafbf",
   "metadata": {},
   "source": [
    "# Sydney Sailors: Exploratory Data Analysis Project"
   ]
  },
  {
   "cell_type": "code",
   "execution_count": 7,
   "id": "abd02015",
   "metadata": {},
   "outputs": [
    {
     "name": "stdout",
     "output_type": "stream",
     "text": [
      "Starting out with Jupyter.\n"
     ]
    }
   ],
   "source": [
    "import pandas as pd\n",
    "print(\"Starting out with Jupyter.\")"
   ]
  },
  {
   "cell_type": "code",
   "execution_count": 8,
   "id": "5aa5bd1e",
   "metadata": {},
   "outputs": [
    {
     "data": {
      "text/plain": [
       "117"
      ]
     },
     "execution_count": 8,
     "metadata": {},
     "output_type": "execute_result"
    }
   ],
   "source": [
    "45 + 72"
   ]
  },
  {
   "cell_type": "code",
   "execution_count": 9,
   "id": "5c628de4",
   "metadata": {},
   "outputs": [
    {
     "data": {
      "text/plain": [
       "21.75"
      ]
     },
     "execution_count": 9,
     "metadata": {},
     "output_type": "execute_result"
    }
   ],
   "source": [
    "5 * (12.7 - 4) / 2"
   ]
  }
 ],
 "metadata": {
  "kernelspec": {
   "display_name": ".venv",
   "language": "python",
   "name": "python3"
  },
  "language_info": {
   "codemirror_mode": {
    "name": "ipython",
    "version": 3
   },
   "file_extension": ".py",
   "mimetype": "text/x-python",
   "name": "python",
   "nbconvert_exporter": "python",
   "pygments_lexer": "ipython3",
   "version": "3.13.3"
  }
 },
 "nbformat": 4,
 "nbformat_minor": 5
}
